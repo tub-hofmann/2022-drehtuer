{
 "cells": [
  {
   "cell_type": "markdown",
   "source": [
    "# Die kinetische Energie der Drehtür\n",
    "\n",
    "Kinetische Energie setzt sich aus Translations- und Rotatiosnenergie zusammen.\n",
    "\n",
    "\\begin{equation}\n",
    "    E_\\text{kin} = E_\\text{trans} + E_\\text{rot}\n",
    "\\end{equation}\n",
    "\n",
    "Die Translationsnergie ergibt sich bei einer Drehtür zu Null, da sich diese nur um sich selbst dreht. Die Rotationsnergie bestimmt sich mit Hilfe des Trägheitsmoments $J$ und der Wimkelgeschwindikeit $\\omega$.\n",
    "\n",
    "\\begin{equation}\n",
    "    E_\\text{rot} = \\frac{1}{2} J \\omega^2\n",
    "\\end{equation}\n",
    "\n",
    "Das Trägheitsmoment ist für komplexe Körper nicht trivial zu berechnen. Rotationssymterische Körper stellen einen Sonderfall dar. Für einen Zylinder ergibt sich mit Hilfe der Masse $m$ und des Radius $r$\n",
    "\n",
    "\\begin{equation}\n",
    "    J = \\frac{1}{2} m \\cdot r^2\n",
    "\\end{equation}\n",
    "\n",
    "Die Winkelgeschwindigkeit $\\omega$ ergibt sich unter der Annahme einer konstanten Geschwindigkeit zu\n",
    "\n",
    "\\begin{equation}\n",
    "    \\omega = \\frac {2\\pi}{T}\n",
    "\\end{equation}\n",
    "\n",
    "Wobei T die Zeit ist, die für eine Umdrehung benötigt wird. Unter zu Hilfenahme der Frequenz $f$\n",
    "\n",
    "\\begin{equation}\n",
    "    \\omega = 2 \\pi \\cdot f\n",
    "\\end{equation}\n",
    "\n",
    "Notieren wir nun abschließend die Formel zur Berechnung der kinetischen Energie der Drehtür.\n",
    "\n",
    "\\begin{equation}\n",
    "    E_\\text{kin,DT} = m \\cdot \\left( \\pi \\cdot r \\cdot f \\right)^2\n",
    "\\end{equation}\n",
    "\n",
    "Masse der Drehtür, (ab hier Schätzwerte, ggf. ersetzen)"
   ],
   "metadata": {
    "collapsed": false
   }
  },
  {
   "cell_type": "code",
   "execution_count": 15,
   "metadata": {
    "collapsed": true
   },
   "outputs": [],
   "source": [
    "m = 250 # kg"
   ]
  },
  {
   "cell_type": "markdown",
   "source": [
    "Der Radius der Drehtür"
   ],
   "metadata": {
    "collapsed": false
   }
  },
  {
   "cell_type": "code",
   "execution_count": 16,
   "outputs": [],
   "source": [
    "r = 0.8 # m"
   ],
   "metadata": {
    "collapsed": false
   }
  },
  {
   "cell_type": "markdown",
   "source": [
    "Die Tür besteht aus vier Zellen. Wir schätzen, eine Viertel Drehung nimmt eine Sekunde in Anspruch. Für eine volle Umdrehung benötigt die Tür vier Sekunden. Die Frequenz beträgt also"
   ],
   "metadata": {
    "collapsed": false
   }
  },
  {
   "cell_type": "code",
   "execution_count": 17,
   "outputs": [],
   "source": [
    "f = 0.25 # 1/s"
   ],
   "metadata": {
    "collapsed": false
   }
  },
  {
   "cell_type": "markdown",
   "source": [
    "Wir setzen unsere Werte ein und berechnen."
   ],
   "metadata": {
    "collapsed": false
   }
  },
  {
   "cell_type": "code",
   "execution_count": 23,
   "outputs": [
    {
     "name": "stdout",
     "output_type": "stream",
     "text": [
      "98.69604401089357 [kg * m^2 / s^2 = Nm = J = Ws]\n"
     ]
    }
   ],
   "source": [
    "import math\n",
    "\n",
    "E_kin = m * (math.pi * r * f) ** 2\n",
    "print(E_kin, '[kg * m^2 / s^2 = Nm = J = Ws]')"
   ],
   "metadata": {
    "collapsed": false
   }
  },
  {
   "cell_type": "markdown",
   "source": [],
   "metadata": {
    "collapsed": false
   }
  }
 ],
 "metadata": {
  "kernelspec": {
   "display_name": "Python 3",
   "language": "python",
   "name": "python3"
  },
  "language_info": {
   "codemirror_mode": {
    "name": "ipython",
    "version": 2
   },
   "file_extension": ".py",
   "mimetype": "text/x-python",
   "name": "python",
   "nbconvert_exporter": "python",
   "pygments_lexer": "ipython2",
   "version": "2.7.6"
  }
 },
 "nbformat": 4,
 "nbformat_minor": 0
}
